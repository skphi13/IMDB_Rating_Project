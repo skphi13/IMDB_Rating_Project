{
 "cells": [
  {
   "cell_type": "markdown",
   "id": "f85a80d2",
   "metadata": {},
   "source": [
    "## Basic Python - IMDB Rating Project <a id='intro'></a>"
   ]
  },
  {
   "cell_type": "markdown",
   "id": "a1262df4",
   "metadata": {},
   "source": [
    "## Introduction <a id='intro'></a>\n",
    "In this project, you will work with data from the entertainment industry. You will study a dataset with records on movies and shows. The research will focus on the \"Golden Age\" of television, which began in 1999 with the release of *The Sopranos* and is still ongoing.\n",
    "\n",
    "The aim of this project is to investigate how the number of votes a title receives impacts its ratings. The assumption is that highly-rated shows (we will focus on TV shows, ignoring movies) released during the \"Golden Age\" of television also have the most votes.\n",
    "\n",
    "### Stages \n",
    "Data on movies and shows is stored in the `/datasets/movies_and_shows.csv` file. There is no information about the quality of the data, so you will need to explore it before doing the analysis.\n",
    "\n",
    "First, you'll evaluate the quality of the data and see whether its issues are significant. Then, during data preprocessing, you will try to account for the most critical problems.\n",
    " \n",
    "Your project will consist of three stages:\n",
    " 1. Data overview\n",
    " 2. Data preprocessing\n",
    " 3. Data analysis"
   ]
  },
  {
   "cell_type": "markdown",
   "id": "ac0593ac",
   "metadata": {},
   "source": [
    "## Stage 1. Data overview <a id='data_review'></a>\n",
    "\n",
    "Open and explore the data."
   ]
  },
  {
   "cell_type": "markdown",
   "id": "e86ed00e",
   "metadata": {},
   "source": [
    "You'll need `pandas`, so import it."
   ]
  },
  {
   "cell_type": "code",
   "execution_count": 1,
   "id": "1727d3f8",
   "metadata": {},
   "outputs": [],
   "source": [
    "import pandas as pd # importing pandas\n"
   ]
  },
  {
   "cell_type": "markdown",
   "id": "9821beeb",
   "metadata": {},
   "source": [
    "Read the `movies_and_shows.csv` file from the `datasets` folder and save it in the `df` variable:"
   ]
  },
  {
   "cell_type": "code",
   "execution_count": 2,
   "id": "fc5a1402",
   "metadata": {},
   "outputs": [],
   "source": [
    "df = pd.read_csv('/datasets/movies_and_shows.csv') # reading the files and storing them to df\n"
   ]
  },
  {
   "cell_type": "markdown",
   "id": "1cd0a96d",
   "metadata": {},
   "source": [
    "Print the first 10 table rows:"
   ]
  },
  {
   "cell_type": "code",
   "execution_count": 3,
   "id": "acd92001",
   "metadata": {},
   "outputs": [
    {
     "name": "stdout",
     "output_type": "stream",
     "text": [
      "              name                      Character   r0le        TITLE   Type  \\\n",
      "0   Robert De Niro                  Travis Bickle  ACTOR  Taxi Driver  MOVIE   \n",
      "1     Jodie Foster                  Iris Steensma  ACTOR  Taxi Driver  MOVIE   \n",
      "2    Albert Brooks                            Tom  ACTOR  Taxi Driver  MOVIE   \n",
      "3    Harvey Keitel        Matthew 'Sport' Higgins  ACTOR  Taxi Driver  MOVIE   \n",
      "4  Cybill Shepherd                          Betsy  ACTOR  Taxi Driver  MOVIE   \n",
      "5      Peter Boyle                         Wizard  ACTOR  Taxi Driver  MOVIE   \n",
      "6   Leonard Harris      Senator Charles Palantine  ACTOR  Taxi Driver  MOVIE   \n",
      "7   Diahnne Abbott                Concession Girl  ACTOR  Taxi Driver  MOVIE   \n",
      "8      Gino Ardito             Policeman at Rally  ACTOR  Taxi Driver  MOVIE   \n",
      "9  Martin Scorsese  Passenger Watching Silhouette  ACTOR  Taxi Driver  MOVIE   \n",
      "\n",
      "   release Year              genres  imdb sc0re  imdb v0tes  \n",
      "0          1976  ['drama', 'crime']         8.2    808582.0  \n",
      "1          1976  ['drama', 'crime']         8.2    808582.0  \n",
      "2          1976  ['drama', 'crime']         8.2    808582.0  \n",
      "3          1976  ['drama', 'crime']         8.2    808582.0  \n",
      "4          1976  ['drama', 'crime']         8.2    808582.0  \n",
      "5          1976  ['drama', 'crime']         8.2    808582.0  \n",
      "6          1976  ['drama', 'crime']         8.2    808582.0  \n",
      "7          1976  ['drama', 'crime']         8.2    808582.0  \n",
      "8          1976  ['drama', 'crime']         8.2    808582.0  \n",
      "9          1976  ['drama', 'crime']         8.2    808582.0  \n"
     ]
    }
   ],
   "source": [
    "print(df.head(10)) # obtaining the first 10 rows from the df table\n",
    "# hint: you can use head() and tail() in Jupyter Notebook without wrapping them into print()\n"
   ]
  },
  {
   "cell_type": "markdown",
   "id": "e579aa91",
   "metadata": {},
   "source": [
    "Obtain the general information about the table with one command:"
   ]
  },
  {
   "cell_type": "code",
   "execution_count": 4,
   "id": "7bf66d2a",
   "metadata": {},
   "outputs": [
    {
     "name": "stdout",
     "output_type": "stream",
     "text": [
      "<class 'pandas.core.frame.DataFrame'>\n",
      "RangeIndex: 85579 entries, 0 to 85578\n",
      "Data columns (total 9 columns):\n",
      " #   Column        Non-Null Count  Dtype  \n",
      "---  ------        --------------  -----  \n",
      " 0      name       85579 non-null  object \n",
      " 1   Character     85579 non-null  object \n",
      " 2   r0le          85579 non-null  object \n",
      " 3   TITLE         85578 non-null  object \n",
      " 4     Type        85579 non-null  object \n",
      " 5   release Year  85579 non-null  int64  \n",
      " 6   genres        85579 non-null  object \n",
      " 7   imdb sc0re    80970 non-null  float64\n",
      " 8   imdb v0tes    80853 non-null  float64\n",
      "dtypes: float64(2), int64(1), object(6)\n",
      "memory usage: 5.9+ MB\n",
      "None\n"
     ]
    }
   ],
   "source": [
    "print(df.info()) # obtaining general information about the data in df\n"
   ]
  },
  {
   "cell_type": "markdown",
   "id": "e91f62a7",
   "metadata": {},
   "source": [
    "The table contains nine columns. The majority store the same data type: object. The only exceptions are `'release Year'` (int64 type), `'imdb sc0re'` (float64 type) and `'imdb v0tes'` (float64 type). Scores and votes will be used in our analysis, so it's important to verify that they are present in the dataframe in the appropriate numeric format. Three columns (`'TITLE'`, `'imdb sc0re'` and `'imdb v0tes'`) have missing values.\n",
    "\n",
    "According to the documentation:\n",
    "- `'name'` — actor/director's name and last name\n",
    "- `'Character'` — character played (for actors)\n",
    "- `'r0le '` — the person's contribution to the title (it can be in the capacity of either actor or director)\n",
    "- `'TITLE '` — title of the movie (show)\n",
    "- `'  Type'` — show or movie\n",
    "- `'release Year'` — year when movie (show) was released\n",
    "- `'genres'` — list of genres under which the movie (show) falls\n",
    "- `'imdb sc0re'` — score on IMDb\n",
    "- `'imdb v0tes'` — votes on IMDb\n",
    "\n",
    "We can see three issues with the column names:\n",
    "1. Some names are uppercase, while others are lowercase.\n",
    "2. There are names containing whitespace.\n",
    "3. A few column names have digit '0' instead of letter 'o'. \n"
   ]
  },
  {
   "cell_type": "markdown",
   "id": "4355de7b",
   "metadata": {},
   "source": [
    "### Conclusions <a id='data_review_conclusions'></a> \n",
    "\n",
    "Each row in the table stores data about a movie or show. The columns can be divided into two categories: the first is about the roles held by different people who worked on the movie or show (role, name of the actor or director, and character if the row is about an actor); the second category is information about the movie or show itself (title, release year, genre, imdb figures).\n",
    "\n",
    "It's clear that there is sufficient data to do the analysis and evaluate our assumption. However, to move forward, we need to preprocess the data."
   ]
  },
  {
   "cell_type": "markdown",
   "id": "c5dc9111",
   "metadata": {},
   "source": [
    "## Stage 2. Data preprocessing <a id='data_preprocessing'></a>\n",
    "Correct the formatting in the column headers and deal with the missing values. Then, check whether there are duplicates in the data."
   ]
  },
  {
   "cell_type": "code",
   "execution_count": 5,
   "id": "9c850d13",
   "metadata": {},
   "outputs": [
    {
     "name": "stdout",
     "output_type": "stream",
     "text": [
      "Index(['   name', 'Character', 'r0le', 'TITLE', '  Type', 'release Year',\n",
      "       'genres', 'imdb sc0re', 'imdb v0tes'],\n",
      "      dtype='object')\n"
     ]
    }
   ],
   "source": [
    "print(df.columns) # the list of column names in the df table\n"
   ]
  },
  {
   "cell_type": "markdown",
   "id": "5f966df9",
   "metadata": {},
   "source": [
    "Change the column names according to the rules of good style:\n",
    "* If the name has several words, use snake_case\n",
    "* All characters must be lowercase\n",
    "* Remove whitespace\n",
    "* Replace zero with letter 'o'"
   ]
  },
  {
   "cell_type": "code",
   "execution_count": 6,
   "id": "23a1dc11",
   "metadata": {},
   "outputs": [],
   "source": [
    "df.columns = df.columns.str.strip().str.lower().str.replace(' ', '_').str.replace('0', 'o')\n",
    "\n",
    "# renaming columns\n"
   ]
  },
  {
   "cell_type": "markdown",
   "id": "464fbd04",
   "metadata": {},
   "source": [
    "Check the result. Print the names of the columns once more:"
   ]
  },
  {
   "cell_type": "code",
   "execution_count": 7,
   "id": "0eb6527f",
   "metadata": {},
   "outputs": [
    {
     "name": "stdout",
     "output_type": "stream",
     "text": [
      "Index(['name', 'character', 'role', 'title', 'type', 'release_year', 'genres',\n",
      "       'imdb_score', 'imdb_votes'],\n",
      "      dtype='object')\n"
     ]
    }
   ],
   "source": [
    "print(df.columns)  # checking result: the list of column names\n"
   ]
  },
  {
   "cell_type": "markdown",
   "id": "14d9c319",
   "metadata": {},
   "source": [
    "### Missing values <a id='missing_values'></a>\n",
    "First, find the number of missing values in the table. To do so, combine two `pandas` methods:"
   ]
  },
  {
   "cell_type": "code",
   "execution_count": 8,
   "id": "21c427f2",
   "metadata": {},
   "outputs": [
    {
     "name": "stdout",
     "output_type": "stream",
     "text": [
      "name               0\n",
      "character          0\n",
      "role               0\n",
      "title              1\n",
      "type               0\n",
      "release_year       0\n",
      "genres             0\n",
      "imdb_score      4609\n",
      "imdb_votes      4726\n",
      "dtype: int64\n"
     ]
    }
   ],
   "source": [
    "print(df.isnull().sum()) # calculating missing values\n"
   ]
  },
  {
   "cell_type": "markdown",
   "id": "c8272df3",
   "metadata": {},
   "source": [
    "Not all missing values affect the research: the single missing value in `'title'` is not critical. The missing values in columns `'imdb_score'` and `'imdb_votes'` represent around 6% of all records (4,609 and 4,726, respectively, of the total 85,579). This could potentially affect our research. To avoid this issue, we will drop rows with missing values in the `'imdb_score'` and `'imdb_votes'` columns."
   ]
  },
  {
   "cell_type": "code",
   "execution_count": 9,
   "id": "599d5550",
   "metadata": {},
   "outputs": [],
   "source": [
    "df = df.dropna(subset=['title', 'imdb_score', 'imdb_votes'])# dropping rows where columns with title, scores and votes have missing values\n"
   ]
  },
  {
   "cell_type": "markdown",
   "id": "2156887f",
   "metadata": {},
   "source": [
    "Make sure the table doesn't contain any more missing values. Count the missing values again."
   ]
  },
  {
   "cell_type": "code",
   "execution_count": 10,
   "id": "55c0b0ce",
   "metadata": {},
   "outputs": [
    {
     "name": "stdout",
     "output_type": "stream",
     "text": [
      "name            0\n",
      "character       0\n",
      "role            0\n",
      "title           0\n",
      "type            0\n",
      "release_year    0\n",
      "genres          0\n",
      "imdb_score      0\n",
      "imdb_votes      0\n",
      "dtype: int64\n"
     ]
    }
   ],
   "source": [
    "print(df.isnull().sum()) # counting missing values\n"
   ]
  },
  {
   "cell_type": "markdown",
   "id": "a7dc7aa0",
   "metadata": {},
   "source": [
    "### Duplicates <a id='duplicates'></a>\n",
    "Find the number of duplicate rows in the table using one command:"
   ]
  },
  {
   "cell_type": "code",
   "execution_count": 11,
   "id": "9227df01",
   "metadata": {},
   "outputs": [
    {
     "name": "stdout",
     "output_type": "stream",
     "text": [
      "6994\n"
     ]
    }
   ],
   "source": [
    "print(df.duplicated().sum()) # counting duplicate rows\n"
   ]
  },
  {
   "cell_type": "markdown",
   "id": "5f6eb0fc",
   "metadata": {},
   "source": [
    "Review the duplicate rows to determine if removing them would distort our dataset."
   ]
  },
  {
   "cell_type": "code",
   "execution_count": 12,
   "id": "bcf32fcb",
   "metadata": {},
   "outputs": [
    {
     "name": "stdout",
     "output_type": "stream",
     "text": [
      "                      name                 character   role    title   type  \\\n",
      "85569       Jessica Cediel           Liliana Navarro  ACTOR  Lokillo  MOVIE   \n",
      "85570  Javier Gardeaz?­bal  Agust??n \"Peluca\" Ort??z  ACTOR  Lokillo  MOVIE   \n",
      "85571        Carla Giraldo            Valery Reinoso  ACTOR  Lokillo  MOVIE   \n",
      "85572  Ana Mar??a S?­nchez                   Lourdes  ACTOR  Lokillo  MOVIE   \n",
      "85577         Isabel Gaona                    Cacica  ACTOR  Lokillo  MOVIE   \n",
      "\n",
      "       release_year      genres  imdb_score  imdb_votes  \n",
      "85569          2021  ['comedy']         3.8        68.0  \n",
      "85570          2021  ['comedy']         3.8        68.0  \n",
      "85571          2021  ['comedy']         3.8        68.0  \n",
      "85572          2021  ['comedy']         3.8        68.0  \n",
      "85577          2021  ['comedy']         3.8        68.0  \n"
     ]
    }
   ],
   "source": [
    "duplicates = df[df.duplicated(keep=False)]\n",
    "    \n",
    "print(duplicates.tail()) # Produce table with duplicates (with original rows included) and review last 5 rows\n"
   ]
  },
  {
   "cell_type": "markdown",
   "id": "a1ed6640",
   "metadata": {},
   "source": [
    "There are two clear duplicates in the printed rows. We can safely remove them.\n",
    "Call the `pandas` method for getting rid of duplicate rows:"
   ]
  },
  {
   "cell_type": "code",
   "execution_count": 13,
   "id": "724d5bc8",
   "metadata": {},
   "outputs": [],
   "source": [
    "df = df.drop_duplicates()# removing duplicate rows\n"
   ]
  },
  {
   "cell_type": "markdown",
   "id": "fc8c77ba",
   "metadata": {},
   "source": [
    "Check for duplicate rows once more to make sure you have removed all of them:"
   ]
  },
  {
   "cell_type": "code",
   "execution_count": 14,
   "id": "8091a9bc",
   "metadata": {},
   "outputs": [
    {
     "name": "stdout",
     "output_type": "stream",
     "text": [
      "0\n"
     ]
    }
   ],
   "source": [
    "print(df.duplicated().sum()) # checking for duplicates\n"
   ]
  },
  {
   "cell_type": "markdown",
   "id": "1d802b07",
   "metadata": {},
   "source": [
    "Now get rid of implicit duplicates in the `'type'` column. For example, the string `'SHOW'` can be written in different ways. These kinds of errors will also affect the result."
   ]
  },
  {
   "cell_type": "markdown",
   "id": "d5f987ed",
   "metadata": {},
   "source": [
    "Print a list of unique `'type'` names, sorted in alphabetical order. To do so:\n",
    "* Retrieve the intended dataframe column \n",
    "* Apply a sorting method to it\n",
    "* For the sorted column, call the method that will return all unique column values"
   ]
  },
  {
   "cell_type": "code",
   "execution_count": 15,
   "id": "3d7b0ac5",
   "metadata": {},
   "outputs": [
    {
     "name": "stdout",
     "output_type": "stream",
     "text": [
      "['MOVIE', 'SHOW', 'movies', 'shows', 'the movie', 'tv', 'tv series', 'tv show', 'tv shows']\n"
     ]
    }
   ],
   "source": [
    "unique_types = df['type'].unique()\n",
    "print(sorted(unique_types)) # viewing unique type names\n"
   ]
  },
  {
   "cell_type": "markdown",
   "id": "ac6e8b18",
   "metadata": {},
   "source": [
    "Look through the list to find implicit duplicates of `'show'` (`'movie'` duplicates will be ignored since the assumption is about shows). These could be names written incorrectly or alternative names of the same genre.\n",
    "\n",
    "You will see the following implicit duplicates:\n",
    "* `'shows'`\n",
    "* `'SHOW'`\n",
    "* `'tv show'`\n",
    "* `'tv shows'`\n",
    "* `'tv series'`\n",
    "* `'tv'`\n",
    "\n",
    "To get rid of them, declare the function `replace_wrong_show()` with two parameters: \n",
    "* `wrong_shows_list=` — the list of duplicates\n",
    "* `correct_show=` — the string with the correct value\n",
    "\n",
    "The function should correct the names in the `'type'` column from the `df` table (i.e., replace each value from the `wrong_shows_list` list with the value in `correct_show`)."
   ]
  },
  {
   "cell_type": "code",
   "execution_count": 16,
   "id": "bff944f9",
   "metadata": {},
   "outputs": [],
   "source": [
    "def replace_wrong_show(df, wrong_shows_list, correct_show):\n",
    "    for wrong_show in wrong_shows_list:\n",
    "        df['type'] = df['type'].replace(wrong_show, correct_show)\n",
    "    return df \n",
    "\n",
    "# function for replacing implicit duplicates\n"
   ]
  },
  {
   "cell_type": "markdown",
   "id": "d02d13a6",
   "metadata": {},
   "source": [
    "Call `replace_wrong_show()` and pass it arguments so that it clears implicit duplicates and replaces them with `SHOW`:"
   ]
  },
  {
   "cell_type": "code",
   "execution_count": 17,
   "id": "a2217e53",
   "metadata": {},
   "outputs": [],
   "source": [
    "wrong_shows_list = ['shows', 'show', 'tv show', 'tv shows', 'tv series', 'tv']\n",
    "df = replace_wrong_show(df, wrong_shows_list, 'SHOW') # removing implicit duplicates\n"
   ]
  },
  {
   "cell_type": "markdown",
   "id": "318b09f7",
   "metadata": {},
   "source": [
    "Make sure the duplicate names are removed. Print the list of unique values from the `'type'` column:"
   ]
  },
  {
   "cell_type": "code",
   "execution_count": 18,
   "id": "25d49d73",
   "metadata": {},
   "outputs": [
    {
     "name": "stdout",
     "output_type": "stream",
     "text": [
      "['MOVIE', 'SHOW', 'movies', 'the movie']\n"
     ]
    }
   ],
   "source": [
    "unique_types = df['type'].unique()\n",
    "print(sorted(unique_types)) # viewing unique genre names\n"
   ]
  },
  {
   "cell_type": "markdown",
   "id": "18b2049e",
   "metadata": {},
   "source": [
    "### Conclusions <a id='data_preprocessing_conclusions'></a>\n",
    "We detected three issues with the data:\n",
    "\n",
    "- Incorrect header styles\n",
    "- Missing values\n",
    "- Duplicate rows and implicit duplicates\n",
    "\n",
    "The headers have been cleaned up to make processing the table simpler.\n",
    "\n",
    "All rows with missing values have been removed. \n",
    "\n",
    "The absence of duplicates will make the results more precise and easier to understand.\n",
    "\n",
    "Now we can move on to our analysis of the prepared data."
   ]
  },
  {
   "cell_type": "markdown",
   "id": "1aa0f1b1",
   "metadata": {},
   "source": [
    "## Stage 3. Data analysis <a id='hypotheses'></a>"
   ]
  },
  {
   "cell_type": "markdown",
   "id": "f8fb6a0e",
   "metadata": {},
   "source": [
    "Based on the previous project stages, you can now define how the assumption will be checked. Calculate the average amount of votes for each score (this data is available in the `imdb_score` and `imdb_votes` columns), and then check how these averages relate to each other. If the averages for shows with the highest scores are bigger than those for shows with lower scores, the assumption appears to be true.\n",
    "\n",
    "Based on this, complete the following steps:\n",
    "\n",
    "- Filter the dataframe to only include shows released in 1999 or later.\n",
    "- Group scores into buckets by rounding the values of the appropriate column (a set of 1-10 integers will help us make the outcome of our calculations more evident without damaging the quality of our research).\n",
    "- Identify outliers among scores based on their number of votes, and exclude scores with few votes.\n",
    "- Calculate the average votes for each score and check whether the assumption matches the results."
   ]
  },
  {
   "cell_type": "markdown",
   "id": "0ea2cb51",
   "metadata": {},
   "source": [
    "To filter the dataframe and only include shows released in 1999 or later, you will take two steps. First, keep only titles published in 1999 or later in our dataframe. Then, filter the table to only contain shows (movies will be removed)."
   ]
  },
  {
   "cell_type": "code",
   "execution_count": 19,
   "id": "6a704aa1",
   "metadata": {},
   "outputs": [],
   "source": [
    "df_filtered = df[df['release_year'] >= 1999] # using conditional indexing modify df so it has only titles released after 1999 (with 1999 included)\n",
    "# give the slice of dataframe new name\n"
   ]
  },
  {
   "cell_type": "code",
   "execution_count": 20,
   "id": "128dc6a9",
   "metadata": {
    "scrolled": true
   },
   "outputs": [],
   "source": [
    "df_filtered = df_filtered[df_filtered['type'] == 'SHOW'] # repeat conditional indexing so df has only shows (movies are removed as result)\n"
   ]
  },
  {
   "cell_type": "markdown",
   "id": "9648040c",
   "metadata": {},
   "source": [
    "The scores that are to be grouped should be rounded. For instance, titles with scores like 7.8, 8.1, and 8.3 will all be placed in the same bucket with a score of 8."
   ]
  },
  {
   "cell_type": "code",
   "execution_count": 21,
   "id": "54bbd5c0",
   "metadata": {},
   "outputs": [
    {
     "name": "stdout",
     "output_type": "stream",
     "text": [
      "85433    8.0\n",
      "85434    8.0\n",
      "85435    8.0\n",
      "85436    8.0\n",
      "85437    8.0\n",
      "Name: imdb_score_rounded, dtype: float64\n"
     ]
    }
   ],
   "source": [
    "df_filtered['imdb_score_rounded'] = df_filtered['imdb_score'].round() # rounding column with scores\n",
    "\n",
    "print(df_filtered['imdb_score_rounded'].tail()) #checking the outcome with tail()\n"
   ]
  },
  {
   "cell_type": "markdown",
   "id": "36dbd00a",
   "metadata": {},
   "source": [
    "It is now time to identify outliers based on the number of votes."
   ]
  },
  {
   "cell_type": "code",
   "execution_count": 22,
   "id": "b8b55e95",
   "metadata": {},
   "outputs": [
    {
     "name": "stdout",
     "output_type": "stream",
     "text": [
      "imdb_score_rounded\n",
      "2.0       24\n",
      "3.0       27\n",
      "4.0      180\n",
      "5.0      592\n",
      "6.0     2494\n",
      "7.0     4706\n",
      "8.0     4842\n",
      "9.0      557\n",
      "10.0       8\n",
      "Name: imdb_votes, dtype: int64\n"
     ]
    }
   ],
   "source": [
    "score_counts = df_filtered.groupby('imdb_score_rounded')['imdb_votes'].count()\n",
    "print(score_counts) # Use groupby() for scores and count all unique values in each group, print the result\n"
   ]
  },
  {
   "cell_type": "markdown",
   "id": "1ba6daae",
   "metadata": {},
   "source": [
    "Based on the aggregation performed, it is evident that scores 2 (24 voted shows), 3 (27 voted shows), and 10 (only 8 voted shows) are outliers. There isn't enough data for these scores for the average number of votes to be meaningful."
   ]
  },
  {
   "cell_type": "markdown",
   "id": "bd468c46",
   "metadata": {},
   "source": [
    "To obtain the mean numbers of votes for the selected scores (we identified a range of 4-9 as acceptable), use conditional filtering and grouping."
   ]
  },
  {
   "cell_type": "code",
   "execution_count": 23,
   "id": "d1867e0e",
   "metadata": {},
   "outputs": [
    {
     "name": "stdout",
     "output_type": "stream",
     "text": [
      "   imdb_score_rounded     imdb_votes\n",
      "0                 4.0    5277.583333\n",
      "1                 5.0    3143.942568\n",
      "2                 6.0    3481.717322\n",
      "3                 7.0    8727.068211\n",
      "4                 8.0   30299.460967\n",
      "5                 9.0  126904.109515\n"
     ]
    }
   ],
   "source": [
    "df_filtered = df_filtered[(df_filtered['imdb_score_rounded'] >= 4) & (df_filtered['imdb_score_rounded'] <= 9)] # filter dataframe using two conditions (scores to be in the range 4-9)\n",
    "\n",
    "avg_votes_per_score = df_filtered.groupby('imdb_score_rounded')['imdb_votes'].mean().reset_index() # group scores and corresponding average number of votes, reset index and print the result\n",
    "\n",
    "print(avg_votes_per_score)"
   ]
  },
  {
   "cell_type": "markdown",
   "id": "96a66d14",
   "metadata": {},
   "source": [
    "Now for the final step! Round the column with the averages, rename both columns, and print the dataframe in descending order."
   ]
  },
  {
   "cell_type": "code",
   "execution_count": 24,
   "id": "5999051b",
   "metadata": {},
   "outputs": [
    {
     "name": "stdout",
     "output_type": "stream",
     "text": [
      "   imdb_score  average_votes\n",
      "5         9.0       126904.0\n",
      "4         8.0        30299.0\n",
      "3         7.0         8727.0\n",
      "0         4.0         5278.0\n",
      "2         6.0         3482.0\n",
      "1         5.0         3144.0\n"
     ]
    }
   ],
   "source": [
    "avg_votes_per_score['imdb_votes'] = avg_votes_per_score['imdb_votes'].round() # round column with averages\n",
    "\n",
    "avg_votes_per_score.columns = ['imdb_score', 'average_votes'] # rename columns\n",
    "\n",
    "avg_votes_per_score = avg_votes_per_score.sort_values(by='average_votes', ascending=False)\n",
    "print(avg_votes_per_score) # print dataframe in descending order\n"
   ]
  },
  {
   "cell_type": "markdown",
   "id": "af07386d",
   "metadata": {},
   "source": [
    "The assumption macthes the analysis: the shows with the top 3 scores have the most amounts of votes."
   ]
  },
  {
   "cell_type": "markdown",
   "id": "84e29a37",
   "metadata": {},
   "source": [
    "## Conclusion <a id='hypotheses'></a>"
   ]
  },
  {
   "cell_type": "markdown",
   "id": "984766a3",
   "metadata": {},
   "source": [
    "The research done confirms that highly-rated shows released during the \"Golden Age\" of television also have the most votes. While shows with score 4 have more votes than ones with scores 5 and 6, the top three (scores 7-9) have the largest number. The data studied represents around 94% of the original set, so we can be confident in our findings."
   ]
  }
 ],
 "metadata": {
  "ExecuteTimeLog": [
   {
    "duration": 421,
    "start_time": "2024-06-30T19:32:37.664Z"
   },
   {
    "duration": 227,
    "start_time": "2024-06-30T19:32:40.996Z"
   },
   {
    "duration": 7,
    "start_time": "2024-06-30T19:32:51.375Z"
   },
   {
    "duration": 14,
    "start_time": "2024-06-30T19:33:03.910Z"
   },
   {
    "duration": 53,
    "start_time": "2024-06-30T19:33:54.936Z"
   },
   {
    "duration": 6,
    "start_time": "2024-06-30T19:34:40.914Z"
   },
   {
    "duration": 5,
    "start_time": "2024-06-30T19:34:47.785Z"
   },
   {
    "duration": 7,
    "start_time": "2024-06-30T19:37:10.673Z"
   },
   {
    "duration": 334,
    "start_time": "2024-06-30T19:37:44.381Z"
   },
   {
    "duration": 7,
    "start_time": "2024-06-30T19:38:08.480Z"
   },
   {
    "duration": 5,
    "start_time": "2024-06-30T19:38:36.626Z"
   },
   {
    "duration": 5,
    "start_time": "2024-06-30T19:38:40.736Z"
   },
   {
    "duration": 5,
    "start_time": "2024-06-30T19:38:42.633Z"
   },
   {
    "duration": 28,
    "start_time": "2024-06-30T19:39:13.206Z"
   },
   {
    "duration": 32,
    "start_time": "2024-06-30T19:42:03.367Z"
   },
   {
    "duration": 25,
    "start_time": "2024-06-30T19:42:21.906Z"
   },
   {
    "duration": 32,
    "start_time": "2024-06-30T19:42:31.359Z"
   },
   {
    "duration": 92,
    "start_time": "2024-06-30T19:44:50.163Z"
   },
   {
    "duration": 75,
    "start_time": "2024-06-30T19:45:24.490Z"
   },
   {
    "duration": 69,
    "start_time": "2024-06-30T19:48:37.008Z"
   },
   {
    "duration": 68,
    "start_time": "2024-06-30T19:50:01.637Z"
   },
   {
    "duration": 72,
    "start_time": "2024-06-30T19:50:04.861Z"
   },
   {
    "duration": 71,
    "start_time": "2024-06-30T19:50:06.975Z"
   },
   {
    "duration": 20,
    "start_time": "2024-06-30T19:52:04.875Z"
   },
   {
    "duration": 27,
    "start_time": "2024-06-30T19:52:07.040Z"
   },
   {
    "duration": 74,
    "start_time": "2024-06-30T19:52:10.284Z"
   },
   {
    "duration": 67,
    "start_time": "2024-06-30T19:52:12.999Z"
   },
   {
    "duration": 3,
    "start_time": "2024-06-30T19:52:25.657Z"
   },
   {
    "duration": 194,
    "start_time": "2024-06-30T19:52:27.662Z"
   },
   {
    "duration": 11,
    "start_time": "2024-06-30T19:52:29.276Z"
   },
   {
    "duration": 35,
    "start_time": "2024-06-30T19:52:31.477Z"
   },
   {
    "duration": 4,
    "start_time": "2024-06-30T19:52:34.367Z"
   },
   {
    "duration": 6,
    "start_time": "2024-06-30T19:52:36.983Z"
   },
   {
    "duration": 5,
    "start_time": "2024-06-30T19:52:39.694Z"
   },
   {
    "duration": 28,
    "start_time": "2024-06-30T19:52:43.775Z"
   },
   {
    "duration": 24,
    "start_time": "2024-06-30T19:52:47.613Z"
   },
   {
    "duration": 27,
    "start_time": "2024-06-30T19:52:49.190Z"
   },
   {
    "duration": 74,
    "start_time": "2024-06-30T19:52:51.660Z"
   },
   {
    "duration": 77,
    "start_time": "2024-06-30T19:52:53.434Z"
   },
   {
    "duration": 79,
    "start_time": "2024-06-30T19:54:22.677Z"
   },
   {
    "duration": 79,
    "start_time": "2024-06-30T19:54:24.802Z"
   },
   {
    "duration": 68,
    "start_time": "2024-06-30T19:54:26.675Z"
   },
   {
    "duration": 825,
    "start_time": "2024-06-30T19:56:56.968Z"
   },
   {
    "duration": 56,
    "start_time": "2024-06-30T19:57:13.100Z"
   },
   {
    "duration": 24,
    "start_time": "2024-06-30T19:59:13.231Z"
   },
   {
    "duration": 9,
    "start_time": "2024-06-30T19:59:25.279Z"
   },
   {
    "duration": 5,
    "start_time": "2024-06-30T20:07:17.496Z"
   },
   {
    "duration": 24,
    "start_time": "2024-06-30T20:07:19.308Z"
   },
   {
    "duration": 57,
    "start_time": "2024-06-30T20:07:21.424Z"
   },
   {
    "duration": 23,
    "start_time": "2024-06-30T20:09:04.144Z"
   },
   {
    "duration": 10,
    "start_time": "2024-06-30T20:09:04.947Z"
   },
   {
    "duration": 13,
    "start_time": "2024-06-30T20:13:13.844Z"
   },
   {
    "duration": 13,
    "start_time": "2024-06-30T20:14:56.921Z"
   },
   {
    "duration": 6,
    "start_time": "2024-06-30T20:17:08.446Z"
   },
   {
    "duration": 11,
    "start_time": "2024-06-30T20:17:19.911Z"
   },
   {
    "duration": 12,
    "start_time": "2024-06-30T20:17:20.422Z"
   },
   {
    "duration": 7,
    "start_time": "2024-06-30T20:17:21.312Z"
   },
   {
    "duration": 12,
    "start_time": "2024-06-30T20:17:58.743Z"
   },
   {
    "duration": 15,
    "start_time": "2024-06-30T20:17:59.172Z"
   },
   {
    "duration": 7,
    "start_time": "2024-06-30T20:18:00.112Z"
   },
   {
    "duration": 8,
    "start_time": "2024-06-30T20:20:10.071Z"
   },
   {
    "duration": 14,
    "start_time": "2024-06-30T20:23:15.204Z"
   },
   {
    "duration": 9,
    "start_time": "2024-06-30T20:24:53.926Z"
   },
   {
    "duration": 468,
    "start_time": "2024-06-30T21:08:44.890Z"
   },
   {
    "duration": 238,
    "start_time": "2024-06-30T21:08:45.365Z"
   },
   {
    "duration": 17,
    "start_time": "2024-06-30T21:08:45.606Z"
   },
   {
    "duration": 37,
    "start_time": "2024-06-30T21:08:45.627Z"
   },
   {
    "duration": 5,
    "start_time": "2024-06-30T21:08:45.667Z"
   },
   {
    "duration": 5,
    "start_time": "2024-06-30T21:08:45.712Z"
   },
   {
    "duration": 4,
    "start_time": "2024-06-30T21:08:45.721Z"
   },
   {
    "duration": 27,
    "start_time": "2024-06-30T21:08:45.728Z"
   },
   {
    "duration": 62,
    "start_time": "2024-06-30T21:08:45.758Z"
   },
   {
    "duration": 28,
    "start_time": "2024-06-30T21:08:45.825Z"
   },
   {
    "duration": 93,
    "start_time": "2024-06-30T21:08:45.856Z"
   },
   {
    "duration": 88,
    "start_time": "2024-06-30T21:08:45.952Z"
   },
   {
    "duration": 88,
    "start_time": "2024-06-30T21:08:46.043Z"
   },
   {
    "duration": 79,
    "start_time": "2024-06-30T21:08:46.133Z"
   },
   {
    "duration": 9,
    "start_time": "2024-06-30T21:08:46.215Z"
   },
   {
    "duration": 4,
    "start_time": "2024-06-30T21:08:46.228Z"
   },
   {
    "duration": 23,
    "start_time": "2024-06-30T21:08:46.235Z"
   },
   {
    "duration": 9,
    "start_time": "2024-06-30T21:08:46.261Z"
   },
   {
    "duration": 12,
    "start_time": "2024-06-30T21:08:46.313Z"
   },
   {
    "duration": 14,
    "start_time": "2024-06-30T21:08:46.328Z"
   },
   {
    "duration": 8,
    "start_time": "2024-06-30T21:08:46.345Z"
   },
   {
    "duration": 11,
    "start_time": "2024-06-30T21:08:46.356Z"
   },
   {
    "duration": 15,
    "start_time": "2024-06-30T21:08:46.412Z"
   },
   {
    "duration": 9,
    "start_time": "2024-06-30T21:08:46.431Z"
   }
  ],
  "kernelspec": {
   "display_name": "Python 3 (ipykernel)",
   "language": "python",
   "name": "python3"
  },
  "language_info": {
   "codemirror_mode": {
    "name": "ipython",
    "version": 3
   },
   "file_extension": ".py",
   "mimetype": "text/x-python",
   "name": "python",
   "nbconvert_exporter": "python",
   "pygments_lexer": "ipython3",
   "version": "3.12.4"
  },
  "toc": {
   "base_numbering": 1,
   "nav_menu": {},
   "number_sections": true,
   "sideBar": true,
   "skip_h1_title": true,
   "title_cell": "Table of Contents",
   "title_sidebar": "Contents",
   "toc_cell": false,
   "toc_position": {},
   "toc_section_display": true,
   "toc_window_display": false
  }
 },
 "nbformat": 4,
 "nbformat_minor": 5
}
